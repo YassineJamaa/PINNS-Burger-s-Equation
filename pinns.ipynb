{
 "cells": [
  {
   "cell_type": "code",
   "execution_count": 141,
   "metadata": {},
   "outputs": [],
   "source": [
    "import torch \n",
    "import torch.nn as nn\n",
    "\n",
    "import numpy as np\n",
    "import math\n",
    "from collections import OrderedDict"
   ]
  },
  {
   "cell_type": "code",
   "execution_count": 142,
   "metadata": {},
   "outputs": [],
   "source": [
    "# MLP\n",
    "class NN(nn.Module):\n",
    "    \"\"\"\n",
    "    A simple Multi-Layer Perceptron (MLP) implemented using PyTorch.\n",
    "    \n",
    "    Arguments:\n",
    "    ----------\n",
    "    in_size : int\n",
    "        The size of the input layer (number of features in the input).\n",
    "    h_size : int\n",
    "        The size of the hidden layers (number of neurons in each hidden layer).\n",
    "    o_size : int\n",
    "        The size of the output layer (number of classes or target values).\n",
    "    n_layers : int, optional (default=5)\n",
    "        The number of hidden layers in the network.\n",
    "    \n",
    "    Methods:\n",
    "    --------\n",
    "    forward(x):\n",
    "        Defines the forward pass of the network, applying the layers sequentially to the input.\n",
    "        \n",
    "    Example:\n",
    "    --------\n",
    "    >>> model = NN(in_size=10, h_size=20, o_size=5, n_layers=3)\n",
    "    >>> x = torch.randn(1, 10)  # A batch of 1 with 10 input features\n",
    "    >>> output = model(x)\n",
    "    \"\"\"\n",
    "    def __init__(self, in_size, h_size, o_size, n_layers=5):\n",
    "        super(NN, self).__init__()\n",
    "        # Create layers pipeline\n",
    "        layers = []\n",
    "        # Establish the non-linear activation function\n",
    "        activation = nn.Tanh\n",
    "        # Add input in the pipeline & the activation\n",
    "        layers.append((\"in\", nn.Linear(in_size, h_size)))\n",
    "        layers.append((\"in_activation\", activation()))\n",
    "        # Add the hidden layers\n",
    "        for i in range(n_layers):\n",
    "            layers.append(\n",
    "                (\"layer_%d\" %i, nn.Linear(h_size, h_size))\n",
    "            )\n",
    "            layers.append((\"activation_layer_%d\" %i, activation()))\n",
    "        layers.append((\"output\", nn.Linear(h_size, o_size)))\n",
    "        layer_dict = OrderedDict(layers)\n",
    "        self.layers = nn.Sequential(layer_dict)\n",
    "        \n",
    "    def forward(self, x):\n",
    "        out = self.layers(x)\n",
    "        return out"
   ]
  },
  {
   "cell_type": "code",
   "execution_count": 143,
   "metadata": {},
   "outputs": [],
   "source": [
    "device = torch.device(\"cuda\") if torch.cuda.is_available() else torch.device(\"cpu\")\n",
    "step_x = 0.1\n",
    "step_t = 0.1\n",
    "x = torch.arange(-1, 1 + step_x, step_x)\n",
    "t = torch.arange(0, 1 + step_t, step_t)\n",
    "\n",
    "# Grid: Exact Solution\n",
    "X = torch.stack(torch.meshgrid(x, t)).reshape(2, -1).T.to(device)\n",
    "X.requires_grad = True\n",
    "\n",
    "# training data\n",
    "boundary_condition_start = torch.stack(torch.meshgrid(x[0], t)).reshape(2, -1).T\n",
    "boundary_condition_end = torch.stack(torch.meshgrid(x[-1], t)).reshape(2, -1).T\n",
    "initial_condition = torch.stack(torch.meshgrid(x, t[0])).reshape(2, -1).T\n",
    "x_train = torch.cat([boundary_condition_start, boundary_condition_end, initial_condition]).to(device)\n",
    "y_bound_cond_start = torch.zeros(len(boundary_condition_start))\n",
    "y_bound_cond_end = torch.zeros(len(boundary_condition_end))\n",
    "y_init_cond = -torch.sin(math.pi * initial_condition[:,0])\n",
    "y_train = torch.cat([y_bound_cond_start, y_bound_cond_end, y_init_cond]).unsqueeze(1).to(device)\n",
    "\n",
    "# Initialize model\n",
    "model = NN(in_size=2, h_size=20, o_size=1, n_layers=4).to(device)\n",
    "criterion = nn.MSELoss()\n",
    "\n",
    "optimizer = torch.optim.LBFGS(\n",
    "    model.parameters(),\n",
    "    lr=0.1,\n",
    "    max_iter=50000,\n",
    "    max_eval=50000,\n",
    "    history_size=50,\n",
    "    tolerance_grad=1e-7,\n",
    "    tolerance_change=1.0*np.finfo(float).eps,\n",
    "    line_search_fn=\"strong_wolfe\"\n",
    ")\n",
    "\n",
    "adam = torch.optim.Adam(model.parameters())"
   ]
  },
  {
   "cell_type": "code",
   "execution_count": 144,
   "metadata": {},
   "outputs": [],
   "source": [
    "def loss_function(model, X, X_train, y_train, criterion):\n",
    "    y_pred = model(X_train)\n",
    "    loss_data = criterion(y_pred, y_train)\n",
    "    u = model(X)\n",
    "    \n",
    "    du_dX = torch.autograd.grad(\n",
    "        inputs = X,\n",
    "        outputs= u,\n",
    "        grad_outputs = torch.ones_like(u),\n",
    "        retain_graph = True,\n",
    "        create_graph = True\n",
    "    )[0]\n",
    "\n",
    "    du_dt = du_dX[:, 1]\n",
    "    du_dx = du_dX[:, 0]\n",
    "\n",
    "    du_dxx = torch.autograd.grad(\n",
    "        inputs = X,\n",
    "        outputs= du_dX,\n",
    "        grad_outputs = torch.ones_like(du_dX),\n",
    "        retain_graph = True,\n",
    "        create_graph = True\n",
    "    )[0][:,0]\n",
    "    loss_pde = criterion(du_dt + u.squeeze() * du_dx, 0.01/math.pi * du_dxx)\n",
    "\n",
    "    loss = loss_pde + loss_data\n",
    "    loss.backward()\n",
    "    return loss"
   ]
  },
  {
   "cell_type": "code",
   "execution_count": 145,
   "metadata": {},
   "outputs": [
    {
     "name": "stdout",
     "output_type": "stream",
     "text": [
      "Epoch 0: Loss = 0.253510\n",
      "Epoch 100: Loss = 0.180257\n",
      "Epoch 200: Loss = 0.095107\n",
      "Epoch 300: Loss = 0.086868\n",
      "Epoch 400: Loss = 0.073839\n",
      "Epoch 500: Loss = 0.059788\n",
      "Epoch 600: Loss = 0.029741\n",
      "Epoch 700: Loss = 0.024401\n",
      "Epoch 800: Loss = 0.020017\n",
      "Epoch 900: Loss = 0.018924\n",
      "Final loss after L-BFGS: 0.000037\n"
     ]
    }
   ],
   "source": [
    "# Training with Adam optimizer\n",
    "EPOCHS = 1000\n",
    "for epoch in range(EPOCHS):\n",
    "    # Zero the gradients\n",
    "    adam.zero_grad()\n",
    "    \n",
    "    # Compute the loss using the custom loss function\n",
    "    loss = loss_function(model, X, x_train, y_train, criterion)\n",
    "    \n",
    "    # Perform a step with the Adam optimizer\n",
    "    adam.step()  # Update model parameters\n",
    "\n",
    "    # Optional: Print loss at intervals for debugging purposes\n",
    "    if epoch % 100 == 0:\n",
    "        print(f\"Epoch {epoch}: Loss = {loss.item():.6f}\")\n",
    "\n",
    "# Fine-tuning with L-BFGS optimizer\n",
    "def closure():\n",
    "    # Zero the gradients\n",
    "    optimizer.zero_grad()\n",
    "    \n",
    "    # Compute the loss\n",
    "    loss = loss_function(model, X, x_train, y_train, criterion)\n",
    "    # print(f\"L-BFGS Loss: {loss.item():.6f}\")\n",
    "    return loss\n",
    "\n",
    "# Apply L-BFGS after training loop\n",
    "optimizer.step(closure)\n",
    "optimizer.zero_grad()\n",
    "# Print final loss after L-BFGS optimization\n",
    "final_loss = loss_function(model, X, x_train, y_train, criterion)\n",
    "print(f\"Final loss after L-BFGS: {final_loss.item():.6f}\")"
   ]
  },
  {
   "cell_type": "code",
   "execution_count": 146,
   "metadata": {},
   "outputs": [],
   "source": [
    "import seaborn as sns\n",
    "import matplotlib.pyplot as plt\n",
    "\n",
    "# Evaluation\n",
    "model.eval()\n",
    "h = 0.01\n",
    "k = 0.01\n",
    "x = torch.arange(-1, 1, h)\n",
    "t = torch.arange(0, 1, k)\n",
    "\n",
    "# Exact solution\n",
    "X= torch.stack(torch.meshgrid(x, t)).reshape(2, -1).T\n",
    "X = X.to(device)\n",
    "\n",
    "with  torch.no_grad():\n",
    "    y_pred = model(X).reshape(len(x), len(t)).cpu().numpy()"
   ]
  },
  {
   "cell_type": "code",
   "execution_count": 147,
   "metadata": {},
   "outputs": [
    {
     "data": {
      "text/plain": [
       "<Figure size 15000x9000 with 0 Axes>"
      ]
     },
     "execution_count": 147,
     "metadata": {},
     "output_type": "execute_result"
    },
    {
     "data": {
      "text/plain": [
       "<Figure size 15000x9000 with 0 Axes>"
      ]
     },
     "metadata": {},
     "output_type": "display_data"
    }
   ],
   "source": [
    "sns.set_style(\"white\")\n",
    "plt.figure(figsize=(5, 3), dpi=3000)"
   ]
  },
  {
   "cell_type": "code",
   "execution_count": 148,
   "metadata": {},
   "outputs": [
    {
     "data": {
      "text/plain": [
       "<Axes: >"
      ]
     },
     "execution_count": 148,
     "metadata": {},
     "output_type": "execute_result"
    },
    {
     "data": {
      "image/png": "[encoded data removed]",
      "text/plain": [
       "<Figure size 640x480 with 2 Axes>"
      ]
     },
     "metadata": {},
     "output_type": "display_data"
    }
   ],
   "source": [
    "sns.heatmap(y_pred, cmap='jet')"
   ]
  }
 ],
 "metadata": {
  "kernelspec": {
   "display_name": "deep-learning-env",
   "language": "python",
   "name": "python3"
  },
  "language_info": {
   "codemirror_mode": {
    "name": "ipython",
    "version": 3
   },
   "file_extension": ".py",
   "mimetype": "text/x-python",
   "name": "python",
   "nbconvert_exporter": "python",
   "pygments_lexer": "ipython3",
   "version": "3.11.10"
  }
 },
 "nbformat": 4,
 "nbformat_minor": 2
}
